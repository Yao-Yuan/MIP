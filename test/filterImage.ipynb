{
 "cells": [
  {
   "cell_type": "code",
   "execution_count": 1,
   "metadata": {
    "collapsed": true
   },
   "outputs": [],
   "source": [
    "#Import libraries\n",
    "import os\n",
    "import pydicom\n",
    "import matplotlib.pyplot as plt"
   ]
  },
  {
   "cell_type": "code",
   "execution_count": 2,
   "metadata": {},
   "outputs": [],
   "source": [
    "# Load data and masks as dicom files\n",
    "data_dir = '../../data'                   #Please change the path accordingly before make any changes\n",
    "normal = data_dir + '/normal.txt'\n",
    "img_dir = data_dir + '/256Auto/images'\n",
    "msk_dir = data_dir + '/256Auto/masks'"
   ]
  },
  {
   "cell_type": "code",
   "execution_count": 3,
   "metadata": {},
   "outputs": [
    {
     "name": "stdout",
     "output_type": "stream",
     "text": [
      "A095.dcm does not have a result dicom file in the mask folder!\nA101.dcm does not have a result dicom file in the mask folder!\nA102.dcm does not have a result dicom file in the mask folder!\nA044.dcm does not have a result dicom file in the mask folder!\nA061.dcm does not have a result dicom file in the mask folder!\nA155.dcm does not have a result dicom file in the mask folder!\nA098.dcm does not have a result dicom file in the mask folder!\nA067.dcm does not have a result dicom file in the mask folder!\nA012.dcm does not have a result dicom file in the mask folder!\nA146.dcm does not have a result dicom file in the mask folder!\nA097.dcm does not have a result dicom file in the mask folder!\nA054.dcm does not have a result dicom file in the mask folder!\nA092.dcm does not have a result dicom file in the mask folder!\nA052.dcm does not have a result dicom file in the mask folder!\nA063.dcm does not have a result dicom file in the mask folder!\nA031.dcm does not have a result dicom file in the mask folder!\nA115.dcm does not have a result dicom file in the mask folder!\nA053.dcm does not have a result dicom file in the mask folder!\nA106.dcm does not have a result dicom file in the mask folder!\n"
     ]
    },
    {
     "name": "stdout",
     "output_type": "stream",
     "text": [
      "A104.dcm does not have a result dicom file in the mask folder!\nA079.dcm does not have a result dicom file in the mask folder!\nA154.dcm does not have a result dicom file in the mask folder!\nA057.dcm does not have a result dicom file in the mask folder!\nA049.dcm does not have a result dicom file in the mask folder!\nPA4.dcm does not have a result dicom file in the mask folder!\nA150.dcm does not have a result dicom file in the mask folder!\nA019.dcm does not have a result dicom file in the mask folder!\nA035.dcm does not have a result dicom file in the mask folder!\nA112.dcm does not have a result dicom file in the mask folder!\nA033.dcm does not have a result dicom file in the mask folder!\n['A071.dcm', 'A030.dcm', 'A082.dcm', 'A010.dcm', 'A073.dcm', 'A040.dcm', 'A027.dcm', 'A022.dcm', 'A066.dcm', 'A091.dcm', 'A123.dcm', 'A133.dcm', 'A088.dcm', 'A135.dcm', 'A070.dcm', 'A056.dcm', 'A137.dcm']\n17\n"
     ]
    }
   ],
   "source": [
    "files = os.listdir(img_dir)\n",
    "image_list = [[pydicom.read_file(os.path.join(img_dir, filename)), filename] for filename in files]\n",
    "with open(normal) as f:\n",
    "    content = f.readlines()\n",
    "normal_list = [x.strip() for x in content] \n",
    "img_name_list = []\n",
    "text_file = open(data_dir + \"/GoodData_256auto.txt\", \"w\")\n",
    "\n",
    "msk_name_list = []\n",
    "invalid_img_list = []\n",
    "mask_threshold = 50000000\n",
    "\n",
    "for i in range(len(image_list)):\n",
    "    filename = image_list[i][1]\n",
    "    if filename.split('.')[0] in normal_list:     #if the image is among normal images\n",
    "        if image_list[i][0].pixel_array.shape == (220,256,256):   #check if the size of the image is correct\n",
    "            img_namesplt = filename.split('.')\n",
    "            msk_name = img_namesplt[0]+'.result.dcm'\n",
    "            #print(msk_name)\n",
    "            try:\n",
    "                mask = pydicom.read_file(os.path.join(msk_dir, msk_name))   #check if corresponding mask exsists\n",
    "            except:\n",
    "                print(filename + \" does not have a result dicom file in the mask folder!\")\n",
    "                invalid_img_list.append(filename)\n",
    "            else:\n",
    "                if mask.pixel_array.sum() < mask_threshold:    #check if the label is too large\n",
    "                    img_name_list.append(filename)\n",
    "                    msk_name_list.append(msk_name)\n",
    "                    text_file.write(filename + \"\\n\")\n",
    "                else: \n",
    "                    invalid_img_list.append(filename)\n",
    "print(img_name_list)\n",
    "print(len(img_name_list))        \n",
    "text_file.close()"
   ]
  },
  {
   "cell_type": "code",
   "execution_count": null,
   "metadata": {},
   "outputs": [
    {
     "name": "stdout",
     "output_type": "stream",
     "text": [
      "A095.dcm does not have a result dicom file in the mask folder!\nA101.dcm does not have a result dicom file in the mask folder!\nA102.dcm does not have a result dicom file in the mask folder!\nA044.dcm does not have a result dicom file in the mask folder!\nA061.dcm does not have a result dicom file in the mask folder!\nA155.dcm does not have a result dicom file in the mask folder!\nA098.dcm does not have a result dicom file in the mask folder!\nA067.dcm does not have a result dicom file in the mask folder!\nA012.dcm does not have a result dicom file in the mask folder!\nA146.dcm does not have a result dicom file in the mask folder!\nA097.dcm does not have a result dicom file in the mask folder!\nA054.dcm does not have a result dicom file in the mask folder!\nA092.dcm does not have a result dicom file in the mask folder!\nA052.dcm does not have a result dicom file in the mask folder!\nA063.dcm does not have a result dicom file in the mask folder!\nA031.dcm does not have a result dicom file in the mask folder!\nA115.dcm does not have a result dicom file in the mask folder!\nA053.dcm does not have a result dicom file in the mask folder!\nA106.dcm does not have a result dicom file in the mask folder!\n"
     ]
    },
    {
     "name": "stdout",
     "output_type": "stream",
     "text": [
      "A104.dcm does not have a result dicom file in the mask folder!\nA079.dcm does not have a result dicom file in the mask folder!\nA154.dcm does not have a result dicom file in the mask folder!\nA057.dcm does not have a result dicom file in the mask folder!\nA049.dcm does not have a result dicom file in the mask folder!\nPA4.dcm does not have a result dicom file in the mask folder!\nA150.dcm does not have a result dicom file in the mask folder!\nA019.dcm does not have a result dicom file in the mask folder!\nA035.dcm does not have a result dicom file in the mask folder!\nA112.dcm does not have a result dicom file in the mask folder!\nA033.dcm does not have a result dicom file in the mask folder!\n['A071.dcm', 'A030.dcm', 'A082.dcm', 'A010.dcm', 'A073.dcm', 'A040.dcm', 'A027.dcm', 'A022.dcm', 'A066.dcm', 'A091.dcm', 'A123.dcm', 'A133.dcm', 'A088.dcm', 'A135.dcm', 'A070.dcm', 'A056.dcm', 'A137.dcm']\n17\n"
     ]
    }
   ],
   "source": [
    ""
   ]
  }
 ],
 "metadata": {
  "kernelspec": {
   "display_name": "Python 2",
   "language": "python",
   "name": "python2"
  },
  "language_info": {
   "codemirror_mode": {
    "name": "ipython",
    "version": 2
   },
   "file_extension": ".py",
   "mimetype": "text/x-python",
   "name": "python",
   "nbconvert_exporter": "python",
   "pygments_lexer": "ipython2",
   "version": "2.7.6"
  }
 },
 "nbformat": 4,
 "nbformat_minor": 0
}
