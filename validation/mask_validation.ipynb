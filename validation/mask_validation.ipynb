{
 "cells": [
  {
   "cell_type": "code",
   "execution_count": 1,
   "metadata": {
    "collapsed": true
   },
   "outputs": [
    {
     "name": "stderr",
     "output_type": "stream",
     "text": [
      "/home/yuan/Software/anaconda3/lib/python3.6/site-packages/h5py/__init__.py:36: FutureWarning: Conversion of the second argument of issubdtype from `float` to `np.floating` is deprecated. In future, it will be treated as `np.float64 == np.dtype(float).type`.\n  from ._conv import register_converters as _register_converters\nUsing TensorFlow backend.\n"
     ]
    }
   ],
   "source": [
    "from keras.models import load_model\n",
    "import keraOverlay as overlay\n",
    "import numpy as np\n",
    "import matplotlib.pyplot as plt \n",
    "import utils"
   ]
  },
  {
   "cell_type": "code",
   "execution_count": 2,
   "metadata": {},
   "outputs": [],
   "source": [
    "#Load preliminary trained model\n",
    "model = load_model('Scale_down64.h5', custom_objects={'dice_coef_loss': overlay.dice_coef_loss,\n",
    "                                                      'dice_coef': overlay.dice_coef})"
   ]
  },
  {
   "cell_type": "code",
   "execution_count": 3,
   "metadata": {},
   "outputs": [],
   "source": [
    "# Load data and masks as dicom files\n",
    "data_dir = '../../data'                   #Please change the path accordingly before make any changes\n",
    "normalNames = data_dir + '/testdata.txt'\n",
    "img_dir = data_dir + '/256Auto/images'\n",
    "msk_dir = data_dir + '/256Auto/masks'"
   ]
  },
  {
   "cell_type": "code",
   "execution_count": 4,
   "metadata": {},
   "outputs": [
    {
     "ename": "NameError",
     "evalue": "name 'data_name_list' is not defined",
     "traceback": [
      "\u001b[0;31m---------------------------------------------------------------------------\u001b[0m",
      "\u001b[0;31mNameError\u001b[0m                                 Traceback (most recent call last)",
      "\u001b[0;32m<ipython-input-4-3aee455ed9df>\u001b[0m in \u001b[0;36m<module>\u001b[0;34m()\u001b[0m\n\u001b[1;32m      2\u001b[0m \u001b[0;31m#from imp import reload\u001b[0m\u001b[0;34m\u001b[0m\u001b[0;34m\u001b[0m\u001b[0m\n\u001b[1;32m      3\u001b[0m \u001b[0;31m#reload(utils)\u001b[0m\u001b[0;34m\u001b[0m\u001b[0;34m\u001b[0m\u001b[0m\n\u001b[0;32m----> 4\u001b[0;31m \u001b[0mx_list\u001b[0m\u001b[0;34m,\u001b[0m \u001b[0my_list\u001b[0m \u001b[0;34m=\u001b[0m \u001b[0mutils\u001b[0m\u001b[0;34m.\u001b[0m\u001b[0mload_data\u001b[0m\u001b[0;34m(\u001b[0m\u001b[0mimg_dir\u001b[0m\u001b[0;34m,\u001b[0m \u001b[0mmsk_dir\u001b[0m\u001b[0;34m,\u001b[0m \u001b[0mdata_name_list\u001b[0m\u001b[0;34m,\u001b[0m \u001b[0mpadding\u001b[0m\u001b[0;34m=\u001b[0m\u001b[0;32mTrue\u001b[0m\u001b[0;34m,\u001b[0m \u001b[0msigma_image\u001b[0m\u001b[0;34m=\u001b[0m\u001b[0msigma\u001b[0m\u001b[0;34m,\u001b[0m \u001b[0mscaling\u001b[0m\u001b[0;34m=\u001b[0m\u001b[0;36m4\u001b[0m\u001b[0;34m,\u001b[0m \u001b[0mOPaslist\u001b[0m\u001b[0;34m=\u001b[0m\u001b[0;32mTrue\u001b[0m\u001b[0;34m)\u001b[0m\u001b[0;34m\u001b[0m\u001b[0m\n\u001b[0m",
      "\u001b[0;31mNameError\u001b[0m: name 'data_name_list' is not defined"
     ],
     "output_type": "error"
    }
   ],
   "source": [
    "#Load data to check first as lists\n",
    "#from imp import reload\n",
    "#reload(utils)\n",
    "x_list, y_list = utils.load_data(img_dir, msk_dir, data_name_list, padding=True, sigma_image=sigma, scaling=4, OPaslist=True)"
   ]
  },
  {
   "cell_type": "code",
   "execution_count": null,
   "metadata": {},
   "outputs": [],
   "source": [
    "#predict all data and calculate dice score and store\n",
    "from keras import backend\n",
    "n_slice = 64\n",
    "size = 64\n",
    "print(len(x_list))\n",
    "index = 9\n",
    "confidence = 0.9\n",
    "\n",
    "predictions = []\n",
    "dice_scores = []\n",
    "text_file = open(\"dice_scores_lowres.txt\", \"w\")\n",
    "text_file2 = open(\"dice_scores_up.txt\", \"w\")   #also try to scale back the image and calculate the dice\n",
    "\n",
    "for i, image in enumerate(x_list):\n",
    "    mask = y_list[i]\n",
    "    predictions.append(model.predict(image.reshape(1, n_slice, size, size, 1), steps=1))\n",
    "    predictions[i][predictions[i] >= confidence] = 1\n",
    "    predictions[i][predictions[i] < confidence] = 1\n",
    "\n",
    "    dice_scores.append(overlay.dice_coef(mask[np.newaxis, ...], predictions[i]))\n",
    "\n",
    "\n",
    "#plt.hist(prediction.flatten())\n",
    "for i in dice_scores:\n",
    "    text_file.write(backend.eval(i) + \"\\n\")\n",
    "\n",
    "text_file.close()\n",
    "\n",
    "\n",
    "\n",
    "utils.plot_3d(np.squeeze(predictions[index]), y_list[index], threshold=0.5, threshold2=0.5)"
   ]
  }
 ],
 "metadata": {
  "kernelspec": {
   "display_name": "Python 2",
   "language": "python",
   "name": "python2"
  },
  "language_info": {
   "codemirror_mode": {
    "name": "ipython",
    "version": 2
   },
   "file_extension": ".py",
   "mimetype": "text/x-python",
   "name": "python",
   "nbconvert_exporter": "python",
   "pygments_lexer": "ipython2",
   "version": "2.7.6"
  }
 },
 "nbformat": 4,
 "nbformat_minor": 0
}
