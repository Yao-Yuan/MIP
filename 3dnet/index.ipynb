{
 "cells": [
  {
   "cell_type": "code",
   "execution_count": null,
   "metadata": {},
   "outputs": [],
   "source": [
    "#Import libraries\n",
    "import os\n",
    "import pydicom\n",
    "import numpy as np\n",
    "import keras\n",
    "from sklearn.model_selection import train_test_split, StratifiedKFold\n",
    "import matplotlib.pyplot as plt\n",
    "#Import own utilities\n",
    "import preproc\n",
    "import net3d_model as model_3d\n",
    "import utils\n",
    "import keraOverlay as overlay"
   ]
  },
  {
   "cell_type": "code",
   "execution_count": 4,
   "metadata": {},
   "outputs": [],
   "source": [
    "# Load data and masks as dicom files\n",
    "data_dir = '../../data'                   #Please change the path accordingly before make any changes\n",
    "normalNames = data_dir + '/GoodData_256auto.txt'\n",
    "img_dir = data_dir + '/256Auto/images'\n",
    "msk_dir = data_dir + '/256Auto/masks'"
   ]
  },
  {
   "cell_type": "code",
   "execution_count": null,
   "metadata": {},
   "outputs": [],
   "source": [
    "n_slices = 128\n",
    "\n",
    "model, prediction = model_3d.conv_net(size=128, activation_type=\"sigmoid\", n_slices=n_slices, depth=5, n_base_filters=16)\n",
    "#model.summary()\n",
    "# This visualization might not work depending on how graphviz is installed, but it gives a simple overview of the structure.\n",
    "#To do: output this image to file or in pop up window\n",
    "#from IPython.display import SVG\n",
    "#from keras.utils.vis_utils import model_to_dot\n",
    "#SVG(model_to_dot(model).create(prog='dot', format='svg'))\n",
    "model.compile(loss=model_3d.dice_coef_loss, optimizer='adam', metrics=['acc', model_3d.dice_coef])\n"
   ]
  },
  {
   "cell_type": "code",
   "execution_count": 7,
   "metadata": {
    "collapsed": false
   },
   "outputs": [
    {
     "name": "stdout",
     "output_type": "stream",
     "text": [
      "0 / 10 fold\n"
     ]
    },
    {
     "name": "stdout",
     "output_type": "stream",
     "text": [
      "Epoch 1/5\n"
     ]
    },
    {
     "name": "stdout",
     "output_type": "stream",
     "text": [
      "(1, 128, 128, 128)\n"
     ]
    },
    {
     "name": "stdout",
     "output_type": "stream",
     "text": [
      "(1, 128, 128, 128)\n"
     ]
    },
    {
     "name": "stdout",
     "output_type": "stream",
     "text": [
      "(1, 128, 128, 128)\n"
     ]
    },
    {
     "name": "stdout",
     "output_type": "stream",
     "text": [
      "(1, 128, 128, 128)\n"
     ]
    },
    {
     "name": "stdout",
     "output_type": "stream",
     "text": [
      "(1, 128, 128, 128)\n"
     ]
    },
    {
     "name": "stdout",
     "output_type": "stream",
     "text": [
      "(1, 128, 128, 128)\n"
     ]
    },
    {
     "name": "stdout",
     "output_type": "stream",
     "text": [
      "(1, 128, 128, 128)\n"
     ]
    },
    {
     "name": "stdout",
     "output_type": "stream",
     "text": [
      "(1, 128, 128, 128)\n"
     ]
    },
    {
     "name": "stdout",
     "output_type": "stream",
     "text": [
      "(1, 128, 128, 128)\n"
     ]
    },
    {
     "name": "stdout",
     "output_type": "stream",
     "text": [
      "(1, 128, 128, 128)\n"
     ]
    },
    {
     "name": "stdout",
     "output_type": "stream",
     "text": [
      "(1, 128, 128, 128)\n"
     ]
    },
    {
     "name": "stdout",
     "output_type": "stream",
     "text": [
      "\r 1/15 [=>............................] - ETA: 20:23 - loss: 0.9987 - acc: 0.1758 - dice_coef: 0.0013"
     ]
    },
    {
     "name": "stdout",
     "output_type": "stream",
     "text": [
      "(1, 128, 128, 128)\n"
     ]
    },
    {
     "name": "stdout",
     "output_type": "stream",
     "text": [
      "\b\b\b\b\b\b\b\b\b\b\b\b\b\b\b\b\b\b\b\b\b\b\b\b\b\b\b\b\b\b\b\b\b\b\b\b\b\b\b\b\b\b\b\b\b\b\b\b\b\b\b\b\b\b\b\b\b\b\b\b\b\b\b\b\b\b\b\b\b\b\b\b\b\b\b\b\b\b\b\b\b\b\b\b\b\b\b\b\b\b\b\b\b\b\b\b\b\b\b\b\r 2/15 [===>..........................] - ETA: 18:08 - loss: 0.9979 - acc: 0.2647 - dice_coef: 0.0021"
     ]
    },
    {
     "name": "stdout",
     "output_type": "stream",
     "text": [
      "(1, 128, 128, 128)\n"
     ]
    },
    {
     "name": "stdout",
     "output_type": "stream",
     "text": [
      "\b\b\b\b\b\b\b\b\b\b\b\b\b\b\b\b\b\b\b\b\b\b\b\b\b\b\b\b\b\b\b\b\b\b\b\b\b\b\b\b\b\b\b\b\b\b\b\b\b\b\b\b\b\b\b\b\b\b\b\b\b\b\b\b\b\b\b\b\b\b\b\b\b\b\b\b\b\b\b\b\b\b\b\b\b\b\b\b\b\b\b\b\b\b\b\b\b\b\b\b\r 3/15 [=====>........................] - ETA: 16:58 - loss: 0.9970 - acc: 0.3720 - dice_coef: 0.0030"
     ]
    },
    {
     "name": "stdout",
     "output_type": "stream",
     "text": [
      "(1, 128, 128, 128)\n"
     ]
    }
   ],
   "source": [
    "normal_namelist = []\n",
    "with open(normalNames) as f:\n",
    "    content = f.readlines()\n",
    "    normal_namelist = [x.strip() for x in content] \n"
   ]
  },
  {
   "cell_type": "code",
   "execution_count": null,
   "metadata": {
    "collapsed": false
   },
   "outputs": [],
   "source": [
    "#Cross Validation\n",
    "k = 10   #Number of folds\n",
    "n_batch = 1 #Number of batches\n",
    "\n",
    "folds = list(StratifiedKFold(n_splits=k, shuffle=True, random_state=1).split(np.array(normal_namelist), np.zeros(len(normal_namelist))))\n",
    "\n",
    "for index in range(k):\n",
    "    print(index+1, \"/\", k, \"fold\")\n",
    "    train_list = [normal_namelist[i] for i in folds[index][0]]\n",
    "    val_list = [normal_namelist[i] for i in folds[index][1]]\n",
    "    #print(train_list, val_list)\n",
    "    \n",
    "    history = model.fit_generator(overlay.generate_batch_data(img_dir, msk_dir, train_list, batch_size=n_batch), \n",
    "                                  epochs=5, verbose = 1, steps_per_epoch=len(train_list)/n_batch,\n",
    "                                  validation_data=overlay.generate_batch_data(img_dir,msk_dir, val_list, batch_size=1), validation_steps=len(val_list))\n"
   ]
  },
  {
   "cell_type": "code",
   "execution_count": 1,
   "metadata": {},
   "outputs": [],
   "source": [
    "import matplotlib.pyplot as plt\n"
   ]
  },
  {
   "cell_type": "code",
   "execution_count": null,
   "metadata": {},
   "outputs": [],
   "source": [
    "plt.title('Training Progression')\n",
    "plt.plot(history.epoch, history.history['loss'], label='loss')\n",
    "plt.plot(history.epoch, history.history['acc'], label='acc')\n",
    "\n",
    "#plt.plot(history.epoch, history.history[model_3d.dice_coef], label=\"dice coef\")  #TBD\n",
    "plt.xlabel('epoch')\n",
    "plt.legend()\n",
    "plt.show()"
   ]
  },
  {
   "cell_type": "code",
   "execution_count": null,
   "metadata": {},
   "outputs": [],
   "source": [
    "n_slice = 64\n",
    "size = 64\n",
    "\n",
    "index = 2\n",
    "\n",
    "\n",
    "\n",
    "#data = utils.padImage(x_list[index])\n",
    "#data_tobox = preproc.to3dpatches(data, )\n",
    "predictions = model.predict(x_list[index].reshape(1,n_slice,size,size,1), steps=1)"
   ]
  },
  {
   "cell_type": "code",
   "execution_count": null,
   "metadata": {},
   "outputs": [],
   "source": [
    "slice_index = 34\n",
    "#Show original, mask, prediction#Show or \n",
    "show = plt.figure()\n",
    "data = show.add_subplot(1,3,1)\n",
    "data.set_title(\"data\")\n",
    "#plt.imshow(x_list[0][66])\n",
    "plt.imshow(x_list[index][slice_index].reshape(size,size))\n",
    "\n",
    "label = show.add_subplot(1,3,2)\n",
    "label.set_title(\"label\")\n",
    "plt.imshow(y_list[index][slice_index].reshape(size,size))\n",
    "\n",
    "prediction = show.add_subplot(1,3,3)\n",
    "prediction.set_title(\"prediction\")\n",
    "plt.imshow(predictions[0][slice_index].reshape(size,size))\n",
    "\n"
   ]
  },
  {
   "cell_type": "code",
   "execution_count": null,
   "metadata": {},
   "outputs": [],
   "source": [
    "from keras import backend\n",
    "\n",
    "print(predictions[0][slice_index].shape)\n",
    "\n",
    "#dice = model_3d.dice_coef(predictions[0],x_list[index])\n",
    "dice = model_3d.dice_coef(predictions[0],predictions[0])\n",
    "\n",
    "print(predictions[0][slice_index].dtype)\n",
    "#dice = dice_coef(y_list[index],predictions[0])\n",
    "print(dice)\n",
    "#dice = backend.print_tensor(dice*8, message='y_pred = ')\n",
    "#backend.print_tensor(dice, message='')\n",
    "#print(dice)\n",
    "piece = predictions[0]\n",
    "piece = piece[piece > 0.9]\n",
    "dice = model_3d.dice_coef(piece,piece)\n",
    "\n",
    "backend.eval(dice)\n"
   ]
  },
  {
   "cell_type": "code",
   "execution_count": null,
   "metadata": {},
   "outputs": [],
   "source": []
  }
 ],
 "metadata": {
  "kernelspec": {
   "display_name": "Python 3",
   "language": "python",
   "name": "python3"
  },
  "language_info": {
   "codemirror_mode": {
    "name": "ipython",
    "version": 3
   },
   "file_extension": ".py",
   "mimetype": "text/x-python",
   "name": "python",
   "nbconvert_exporter": "python",
   "pygments_lexer": "ipython3",
   "version": "3.6.5"
  }
 },
 "nbformat": 4,
 "nbformat_minor": 2
}
