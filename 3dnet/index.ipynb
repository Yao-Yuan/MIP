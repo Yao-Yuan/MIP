{
 "cells": [
  {
   "cell_type": "code",
   "execution_count": 1,
   "metadata": {},
   "outputs": [
    {
     "name": "stderr",
     "output_type": "stream",
     "text": [
      "/home/yuan/Software/anaconda3/lib/python3.6/site-packages/h5py/__init__.py:36: FutureWarning: Conversion of the second argument of issubdtype from `float` to `np.floating` is deprecated. In future, it will be treated as `np.float64 == np.dtype(float).type`.\n  from ._conv import register_converters as _register_converters\nUsing TensorFlow backend.\n"
     ]
    }
   ],
   "source": [
    "#Import libraries\n",
    "import os\n",
    "import pydicom\n",
    "import numpy as np\n",
    "import keras\n",
    "from sklearn.model_selection import train_test_split\n",
    "import matplotlib.pyplot as plt"
   ]
  },
  {
   "cell_type": "code",
   "execution_count": 2,
   "metadata": {},
   "outputs": [],
   "source": [
    "#Import own utilities\n",
    "import preproc\n",
    "import net3d_model as model_3d\n",
    "import utils"
   ]
  },
  {
   "cell_type": "code",
   "execution_count": 3,
   "metadata": {},
   "outputs": [],
   "source": [
    "# Load data and masks as dicom files\n",
    "data_dir = '../../../data'                   #Please change the path accordingly before make any changes\n",
    "normalnames = data_dir + '/normal_256auto.txt'\n",
    "img_dir = data_dir + '/256Auto/images'\n",
    "msk_dir = data_dir + '/256Auto/masks'"
   ]
  },
  {
   "cell_type": "code",
   "execution_count": null,
   "metadata": {},
   "outputs": [],
   "source": [
    "\n"
   ]
  },
  {
   "cell_type": "code",
   "execution_count": null,
   "metadata": {},
   "outputs": [],
   "source": [
    "\n",
    "image_name_list, mask_name_list = utils.filter_image(normalnames, img_dir, msk_dir)\n",
    "  \n",
    "image_dic_list = [pydicom.read_file(os.path.join(img_dir, filename)) for filename in image_name_list ]\n",
    "msk_dic_list = [pydicom.read_file(os.path.join(msk_dir, filename)) for filename in mask_name_list ]\n",
    "\n",
    "# Normalizing images\n",
    "image_list, msk_list = preproc.normalize(image_dic_list, msk_dic_list)\n",
    "print(np.amax(image_list[0]), np.amin(image_list[0]))\n",
    "plt.hist(image_list[0].flatten())\n",
    "'''\n",
    "#Check some layer to see whether the label size makes sense -> makes sense\n",
    "show = plt.figure()\n",
    "show.add_subplot(2,2,1)\n",
    "#plt.imshow(x_list[0][66])\n",
    "#show.add_subplot(1,2,2)\n",
    "plt.imshow(image_dic_list[0].pixel_array[77].reshape(256,256))\n",
    "\n",
    "#plt.imshow(y_list[0][66])\n",
    "show.add_subplot(2,2,2)\n",
    "plt.imshow(msk_dic_list[0].pixel_array[77].reshape(256,256))\n",
    "show.add_subplot(2,2,3)\n",
    "#plt.imshow(x_list[0][66])\n",
    "#show.add_subplot(1,2,2)\n",
    "plt.hist(image_list[0][77].reshape(256,256))\n",
    "\n",
    "#plt.imshow(y_list[0][66])\n",
    "show.add_subplot(2,2,4)\n",
    "plt.hist(msk_list[0][77].reshape(256,256))\n",
    "'''\n"
   ]
  },
  {
   "cell_type": "code",
   "execution_count": null,
   "metadata": {},
   "outputs": [],
   "source": [
    "#Make loaded files to patches (both images and masks)\n",
    "\n",
    "x_list = []\n",
    "y_list = []\n",
    "n_slices = 64   #Currently set it to 32 - TBD\n",
    "SUMmation = np.array([0.0])\n",
    "for i in range(len(image_list)):\n",
    "    try:\n",
    "        n, x_data, y_data = preproc.to3dpatches(image_list[i], msk_list[i], depth = n_slices, size = 64,toBoxes = True)\n",
    "    except:\n",
    "        print(\"Warning: Dismissing one stack\")\n",
    "    else:\n",
    "        for i in range(n):\n",
    "            if np.any(y_data[i]):\n",
    "                SUMmation = np.append(SUMmation,y_data[i].sum())\n",
    "                #print(y_data[i].sum())\n",
    "                x_list.append(x_data[i])\n",
    "                y_list.append(y_data[i])\n",
    "    \n",
    "x_list = np.stack(tuple([x for x in x_list]))[...,np.newaxis]\n",
    "y_list = np.stack(tuple([y for y in y_list ]))[...,np.newaxis]\n",
    "print(x_list.shape, y_list.shape)\n",
    "print(SUMmation)\n",
    "plt.hist(SUMmation)"
   ]
  },
  {
   "cell_type": "code",
   "execution_count": null,
   "metadata": {},
   "outputs": [],
   "source": [
    "#Only train a little to save time when testing\n",
    "#x_list = x_list[0:10]\n",
    "#y_list = y_list[0:10]"
   ]
  },
  {
   "cell_type": "code",
   "execution_count": null,
   "metadata": {},
   "outputs": [],
   "source": [
    "n_slices = 64\n",
    "\n",
    "model, prediction = model_3d.conv_net(size = 64, activation_type = \"sigmoid\", n_slices = n_slices, depth = 5, n_base_filters = 16)"
   ]
  },
  {
   "cell_type": "code",
   "execution_count": null,
   "metadata": {},
   "outputs": [],
   "source": [
    "model.summary()"
   ]
  },
  {
   "cell_type": "code",
   "execution_count": null,
   "metadata": {},
   "outputs": [],
   "source": [
    "# This visualization might not work depending on how graphviz is installed, but it gives a simple overview of the structure.\n",
    "#To do: output this image to file or in pop up window\n",
    "from IPython.display import SVG\n",
    "from keras.utils.vis_utils import model_to_dot\n",
    "\n",
    "SVG(model_to_dot(model).create(prog='dot', format='svg'))"
   ]
  },
  {
   "cell_type": "code",
   "execution_count": null,
   "metadata": {},
   "outputs": [],
   "source": [
    "model.compile(loss=model_3d.dice_coef_loss, optimizer='adam', metrics=['acc', model_3d.dice_coef])"
   ]
  },
  {
   "cell_type": "code",
   "execution_count": null,
   "metadata": {},
   "outputs": [],
   "source": [
    "#train_seq = image_mask_sequence('data/train', batch_size=10, size=256)\n",
    "batch_size = 2\n",
    "test_porpotion = (len(x_list)%batch_size + batch_size)/len(x_list)  #Just for convienient\n",
    "#test_porpotion = 0.25\n",
    "#test_porpotion = 0.2\n",
    "#a small number of prediction images\n",
    "x_train, x_test, y_train, y_test = train_test_split(x_list, y_list, test_size = test_porpotion, random_state=43)"
   ]
  },
  {
   "cell_type": "code",
   "execution_count": null,
   "metadata": {},
   "outputs": [],
   "source": [
    "#Will take a long time\n",
    "history = model.fit(x_train, y_train, validation_data=(x_test, y_test), batch_size = batch_size,\n",
    "                   epochs=1, verbose=1, shuffle=True)"
   ]
  },
  {
   "cell_type": "code",
   "execution_count": null,
   "metadata": {},
   "outputs": [],
   "source": [
    "import matplotlib.pyplot as plt\n"
   ]
  },
  {
   "cell_type": "code",
   "execution_count": null,
   "metadata": {},
   "outputs": [],
   "source": [
    "plt.title('Training Progression')\n",
    "plt.plot(history.epoch, history.history['loss'], label='loss')\n",
    "plt.plot(history.epoch, history.history['acc'], label='acc')\n",
    "\n",
    "#plt.plot(history.epoch, history.history[model_3d.dice_coef], label=\"dice coef\")  #TBD\n",
    "plt.xlabel('epoch')\n",
    "plt.legend()\n",
    "plt.show()"
   ]
  },
  {
   "cell_type": "code",
   "execution_count": null,
   "metadata": {},
   "outputs": [],
   "source": [
    "n_slice = 64\n",
    "size = 64\n",
    "\n",
    "index = 2\n",
    "\n",
    "\n",
    "\n",
    "#data = utils.padImage(x_list[index])\n",
    "#data_tobox = preproc.to3dpatches(data, )\n",
    "predictions = model.predict(x_list[index].reshape(1,n_slice,size,size,1), steps=1)"
   ]
  },
  {
   "cell_type": "code",
   "execution_count": null,
   "metadata": {},
   "outputs": [],
   "source": [
    "slice_index = 34\n",
    "#Show original, mask, prediction#Show or \n",
    "show = plt.figure()\n",
    "data = show.add_subplot(1,3,1)\n",
    "data.set_title(\"data\")\n",
    "#plt.imshow(x_list[0][66])\n",
    "plt.imshow(x_list[index][slice_index].reshape(size,size))\n",
    "\n",
    "label = show.add_subplot(1,3,2)\n",
    "label.set_title(\"label\")\n",
    "plt.imshow(y_list[index][slice_index].reshape(size,size))\n",
    "\n",
    "prediction = show.add_subplot(1,3,3)\n",
    "prediction.set_title(\"prediction\")\n",
    "plt.imshow(predictions[0][slice_index].reshape(size,size))\n",
    "\n"
   ]
  },
  {
   "cell_type": "code",
   "execution_count": null,
   "metadata": {},
   "outputs": [],
   "source": [
    "from keras import backend\n",
    "\n",
    "print(predictions[0][slice_index].shape)\n",
    "\n",
    "#dice = model_3d.dice_coef(predictions[0],x_list[index])\n",
    "dice = model_3d.dice_coef(predictions[0],predictions[0])\n",
    "\n",
    "print(predictions[0][slice_index].dtype)\n",
    "#dice = dice_coef(y_list[index],predictions[0])\n",
    "print(dice)\n",
    "#dice = backend.print_tensor(dice*8, message='y_pred = ')\n",
    "#backend.print_tensor(dice, message='')\n",
    "#print(dice)\n",
    "piece = predictions[0]\n",
    "piece = piece[piece > 0.9]\n",
    "dice = model_3d.dice_coef(piece,piece)\n",
    "\n",
    "backend.eval(dice)\n"
   ]
  },
  {
   "cell_type": "code",
   "execution_count": null,
   "metadata": {},
   "outputs": [],
   "source": []
  }
 ],
 "metadata": {
  "kernelspec": {
   "display_name": "Python 3",
   "language": "python",
   "name": "python3"
  },
  "language_info": {
   "codemirror_mode": {
    "name": "ipython",
    "version": 3
   },
   "file_extension": ".py",
   "mimetype": "text/x-python",
   "name": "python",
   "nbconvert_exporter": "python",
   "pygments_lexer": "ipython3",
   "version": "3.6.5"
  }
 },
 "nbformat": 4,
 "nbformat_minor": 2
}
