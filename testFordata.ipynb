{
 "cells": [
  {
   "cell_type": "code",
   "execution_count": 3,
   "metadata": {},
   "outputs": [],
   "source": [
    "#Import libraries\n",
    "import os\n",
    "import pydicom\n",
    "import numpy as np\n",
    "import keras\n",
    "from sklearn.model_selection import train_test_split\n",
    "import matplotlib.pyplot as plt"
   ]
  },
  {
   "cell_type": "code",
   "execution_count": 33,
   "metadata": {},
   "outputs": [],
   "source": [
    "def filter_image (textfile, img_dir, msk_dir, size = (220, 256, 256), mask_threshold = 50000000):\n",
    "    with open(textfile) as f:\n",
    "        content = f.readlines()\n",
    "    normal_namelist = [x.strip() for x in content]\n",
    "\n",
    "    #Get good image names\n",
    "    files = os.listdir(img_dir)\n",
    "    img_name_list = []\n",
    "    for filename in files:\n",
    "        if filename in normal_namelist:\n",
    "            img_name_list.append(filename)\n",
    "    #print(img_name_list, normal_namelist)\n",
    "    #Get corresponding masks names, delete from both name lists if mask does not exists\n",
    "    msk_name_list = []\n",
    "    invalid_img_list = []\n",
    "    total_mask_pixel = np.array([])\n",
    "    for filename in img_name_list:   #correspond images loaded\n",
    "        img_namesplt = filename.split('.')\n",
    "        msk_name = img_namesplt[0]+'.result.dcm'\n",
    "        #print(msk_name)\n",
    "        try:\n",
    "            mask = pydicom.read_file(os.path.join(msk_dir, msk_name))\n",
    "        except:\n",
    "            #print(filename + \" does not have a result dicom file in the mask folder! will delete that from image lists\")\n",
    "            invalid_img_list.append(filename)\n",
    "        else:\n",
    "            #total_mask_pixel = np.append (total_mask_pixel, mask.pixel_array.sum())\n",
    "            #print(mask[0].pixel_array.sum(), mask[1])\n",
    "            print(mask.pixel_array.shape)\n",
    "            if mask.pixel_array.shape == size and mask.pixel_array.sum() < mask_threshold:           \n",
    "                msk_name_list.append(msk_name)\n",
    "            else: \n",
    "                invalid_img_list.append(filename)\n",
    "            \n",
    " #   print(mask, mask.pixel_array.sum())\n",
    "    for filename in invalid_img_list:\n",
    "        img_name_list.remove(filename) \n",
    "    plt.hist(total_mask_pixel)\n",
    "\n",
    "    return img_name_list, msk_name_list"
   ]
  },
  {
   "cell_type": "code",
   "execution_count": 34,
   "metadata": {},
   "outputs": [
    {
     "name": "stdout",
     "output_type": "stream",
     "text": [
      "(220, 256, 256)\n",
      "(220, 256, 256)\n",
      "(220, 256, 256)\n",
      "(220, 256, 256)\n",
      "(220, 256, 256)\n",
      "(220, 256, 256)\n",
      "(220, 256, 256)\n",
      "(220, 256, 256)\n",
      "(220, 256, 256)\n",
      "(220, 256, 256)\n",
      "(220, 256, 256)\n",
      "(220, 256, 256)\n",
      "(220, 256, 256)\n",
      "(220, 256, 256)\n",
      "(220, 256, 256)\n",
      "(220, 256, 256)\n",
      "(220, 256, 256)\n",
      "['A071.dcm', 'A030.dcm', 'A082.dcm', 'A010.dcm', 'A073.dcm', 'A040.dcm', 'A027.dcm', 'A022.dcm', 'A066.dcm', 'A091.dcm', 'A123.dcm', 'A133.dcm', 'A088.dcm', 'A135.dcm', 'A070.dcm', 'A056.dcm', 'A137.dcm']\n"
     ]
    },
    {
     "data": {
      "image/png": "[encoded data removed]",
      "text/plain": [
       "<Figure size 432x288 with 1 Axes>"
      ]
     },
     "metadata": {},
     "output_type": "display_data"
    }
   ],
   "source": [
    "# Load data and masks as dicom files\n",
    "data_dir = '../../data'                   #Please change the path accordingly before make any changes\n",
    "normalnames = data_dir + '/normal_256auto.txt'\n",
    "img_dir = data_dir + '/256Auto/images'\n",
    "msk_dir = data_dir + '/256Auto/masks'\n",
    "\n",
    "image_name_list, mask_name_list = filter_image(normalnames, img_dir, msk_dir)\n",
    "print(image_name_list)"
   ]
  },
  {
   "cell_type": "code",
   "execution_count": null,
   "metadata": {},
   "outputs": [],
   "source": []
  }
 ],
 "metadata": {
  "kernelspec": {
   "display_name": "Python 3",
   "language": "python",
   "name": "python3"
  },
  "language_info": {
   "codemirror_mode": {
    "name": "ipython",
    "version": 3
   },
   "file_extension": ".py",
   "mimetype": "text/x-python",
   "name": "python",
   "nbconvert_exporter": "python",
   "pygments_lexer": "ipython3",
   "version": "3.6.5"
  }
 },
 "nbformat": 4,
 "nbformat_minor": 2
}
