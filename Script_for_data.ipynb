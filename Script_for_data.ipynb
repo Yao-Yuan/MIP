{
 "cells": [
  {
   "cell_type": "code",
   "execution_count": 1,
   "metadata": {},
   "outputs": [
    {
     "name": "stderr",
     "output_type": "stream",
     "text": [
      "/home/yuan/Software/anaconda3/lib/python3.6/site-packages/h5py/__init__.py:36: FutureWarning: Conversion of the second argument of issubdtype from `float` to `np.floating` is deprecated. In future, it will be treated as `np.float64 == np.dtype(float).type`.\n",
      "  from ._conv import register_converters as _register_converters\n",
      "Using TensorFlow backend.\n"
     ]
    }
   ],
   "source": [
    "from pathlib import Path\n",
    "from tqdm import tqdm\n",
    "import keras\n",
    "import matplotlib.pyplot as plt\n",
    "import os\n",
    "import pydicom\n",
    "import numpy as np\n",
    "from skimage import measure, morphology\n",
    "from sklearn.model_selection import train_test_split\n",
    "import scipy"
   ]
  },
  {
   "cell_type": "code",
   "execution_count": 9,
   "metadata": {},
   "outputs": [],
   "source": [
    "#Write to normal_256auto.txt that all the data that has a correct dimention and is labelled as normal in excel\n",
    "data_dir = '../../data'\n",
    "image_dir = data_dir + '/256Auto/images'\n",
    "mask_dir = data_dir + '/256Auto/masks'\n",
    "normal = data_dir + '/normal.txt'\n",
    "green = data_dir + '/green.txt'\n",
    "\n",
    "files = os.listdir(image_dir)\n",
    "image_list = [[pydicom.read_file(os.path.join(image_dir, filename)), filename] for filename in files]\n",
    "#normal_list = pydicom.read_file(os.path.join(data_dir, 'normal.txt'))\n",
    "with open(normal) as f:\n",
    "    content = f.readlines()\n",
    "normal_list = [x.strip() for x in content] \n",
    "images = []\n",
    "text_file = open(data_dir + \"/normal_256auto.txt\", \"w\")\n",
    "text_file_temp = open(data_dir + \"/shapes.txt\", \"w\")\n",
    "for i in range(len(image_list)):\n",
    "    text_file_temp.write(image_list[i][1] + str(image_list[i][0].pixel_array.shape) + \"\\n\")\n",
    "    if image_list[i][0].pixel_array.shape == (220,256,256):\n",
    "        if image_list[i][1].split('.')[0] in normal_list:\n",
    "            text_file.write(image_list[i][1] + \"\\n\")\n",
    "text_file.close()\n",
    "text_file_temp.close()"
   ]
  },
  {
   "cell_type": "code",
   "execution_count": 72,
   "metadata": {},
   "outputs": [
    {
     "name": "stdout",
     "output_type": "stream",
     "text": [
      "Will load masks:  ['A071.result.dcm', 'A030.result.dcm', 'A082.result.dcm', 'A010.result.dcm', 'A073.result.dcm', 'A040.result.dcm', 'A027.result.dcm', 'A022.result.dcm', 'A066.result.dcm', 'A091.result.dcm', 'A123.result.dcm', 'A133.result.dcm', 'A088.result.dcm', 'A135.result.dcm', 'A070.result.dcm', 'A056.result.dcm', 'A137.result.dcm']\n",
      "51\n",
      "78\n",
      "69\n",
      "118\n",
      "71\n",
      "64\n",
      "36\n",
      "38\n",
      "59\n",
      "77\n",
      "0\n",
      "124\n",
      "59\n",
      "72\n",
      "73\n",
      "110\n",
      "0\n"
     ]
    }
   ],
   "source": [
    "# Load data and masks\n",
    "data_dir = '../../data'\n",
    "filenames = data_dir + '/normal_256auto.txt'\n",
    "img_dir = data_dir + '/256Auto/images'\n",
    "msk_dir = data_dir + '/256Auto/masks'\n",
    "\n",
    "with open(filenames) as f:\n",
    "    content = f.readlines()\n",
    "normal_namelist = [x.strip() for x in content] \n",
    "\n",
    "#Get good image names\n",
    "files = os.listdir(img_dir)\n",
    "img_name_list = []\n",
    "for filename in files:\n",
    "    if filename in normal_namelist:\n",
    "        img_name_list.append(filename)\n",
    "\n",
    "#Get corresponding masks names, delete from both name lists if mask does not exists\n",
    "files = os.listdir(msk_dir)\n",
    "msk_name_list = []\n",
    "invalid_img_list = []\n",
    "for filename in img_name_list:   #correspond images loaded\n",
    "    img_namesplt = filename.split('.')\n",
    "    msk_name = img_namesplt[0]+'.result.dcm'\n",
    "    try:\n",
    "        pydicom.read_file(os.path.join(msk_dir, msk_name))\n",
    "    except:\n",
    "        #print(filename + \" does not have a result dicom file in the mask folder! will delete that from image lists\")\n",
    "        invalid_img_list.append(filename)\n",
    "    else:\n",
    "        msk_name_list.append(msk_name)\n",
    "        \n",
    "for filename in invalid_img_list:\n",
    "    img_name_list.remove(filename)\n",
    "#img_name_list.remove(filename for filename in invalid_img_list)\n",
    "#print(\"Will load images: \",img_name_list)\n",
    "print(\"Will load masks: \", msk_name_list)\n",
    "\n",
    "    \n",
    "img_list = [pydicom.read_file(os.path.join(img_dir, filename)) for filename in img_name_list ]\n",
    "msk_list = [pydicom.read_file(os.path.join(msk_dir, filename)) for filename in msk_name_list ]\n",
    "x_list = [imagefile.pixel_array for imagefile in img_list]\n",
    "y_list = [mskfile.pixel_array for mskfile in msk_list]\n",
    "\n",
    "check_zeros = []\n",
    "for j in range(len(y_list)):\n",
    "    for i in range(220):\n",
    "        check_zeros.append (np.any(np.asarray(y_list[j][i])))\n",
    "        #print(np.nonzero(np.asarray(y_list[j][i])))\n",
    "    print(sum(np.asarray(check_zeros)))\n",
    "    check_zeros = []\n",
    "    \n",
    "#print(np.array(check_zeros))\n",
    "#plt.imshow(x_list[1][20].reshape(256,256))\n"
   ]
  },
  {
   "cell_type": "code",
   "execution_count": 73,
   "metadata": {},
   "outputs": [
    {
     "name": "stdout",
     "output_type": "stream",
     "text": [
      "(220, 256, 256) (220, 256, 256)\n",
      "2 (32, 256, 256) (32, 256, 256)\n"
     ]
    }
   ],
   "source": [
    "'''\n",
    "@pram:  origin - a numpy array of a 3d stack for training data\n",
    "        labelImg - must have the same depth of origin, labelled data\n",
    "        n_slices - preferred number of slices per output stack (please make it a even number for now)\n",
    "        complete - False: only output stackes surrounding aneurysm; True: output as much as possible the whole images\n",
    "@output: n_stack - number of stacks containing of n_slices slices from the images\n",
    "         stacks - a list of output stacks\n",
    "@author: Yuan\n",
    "'''\n",
    "def to3dpatches (origin, labelImg, n_slices = 32, complete = False):\n",
    "    originStacks = []\n",
    "    labelStacks = []\n",
    "    print(origin.shape, labelImg.shape)\n",
    "    \n",
    "    if complete:                                  #Directly output stacks if complete is set to true\n",
    "        n_stack =int(labelImg.shape[0]/n_slices)\n",
    "        output_start_index = int((labelImg.shape[0]%n_slices)/2)\n",
    "        for i in range(n_stack):\n",
    "            start_index = output_start_index + i * n_slices\n",
    "            labelStacks.append(labelImg[start_index:start_index+n_slices, ...])   # Cut middle stackes\n",
    "            originStacks.append(origin[start_index:start_index+n_slices, ...])   # Cut middle stackes\n",
    "\n",
    "        print(n_stack)\n",
    "        return n_stack, stacks\n",
    "    \n",
    "    check_zeros = []\n",
    "    for i in range(labelImg.shape[0]):\n",
    "        check_zeros.append(np.any(np.asarray(labelImg[i]))) #check every slice along z axis (depth)\n",
    "    if not np.any(check_zeros):\n",
    "        print(\"Attention: there seems to be no labeled data!\")\n",
    "        \n",
    "    non_zero_index = np.nonzero(check_zeros)\n",
    "    non_zero_range = [np.amin(non_zero_index), np.amax(non_zero_index)]\n",
    "    n_object_slice = non_zero_range[1] - non_zero_range[0]  \n",
    "    n_stack = int(n_object_slice/n_slices) + 1\n",
    "    #print(non_zero_range)\n",
    "    output_start_index = int(non_zero_range[0]+n_object_slice/2 - n_stack*n_slices/2)\n",
    "    \n",
    "    for i in range(n_stack):\n",
    "        start_index = output_start_index + i * n_slices\n",
    "        labelStacks.append(labelImg[start_index:start_index+n_slices, ...])   # Cut middle stackes\n",
    "        originStacks.append(origin[start_index:start_index+n_slices, ...])   # Cut middle stackes\n",
    "        \n",
    "        #print(start_index)\n",
    "    \n",
    "    return n_stack, originStacks, labelStacks\n",
    "\n",
    "a, b ,c = to3dpatches(x_list[0], y_list[0], complete = False)\n",
    "print(a, b[0].shape, c[0].shape)"
   ]
  },
  {
   "cell_type": "code",
   "execution_count": null,
   "metadata": {},
   "outputs": [],
   "source": []
  },
  {
   "cell_type": "code",
   "execution_count": null,
   "metadata": {},
   "outputs": [],
   "source": []
  }
 ],
 "metadata": {
  "kernelspec": {
   "display_name": "Python 3",
   "language": "python",
   "name": "python3"
  },
  "language_info": {
   "codemirror_mode": {
    "name": "ipython",
    "version": 3
   },
   "file_extension": ".py",
   "mimetype": "text/x-python",
   "name": "python",
   "nbconvert_exporter": "python",
   "pygments_lexer": "ipython3",
   "version": "3.6.4"
  }
 },
 "nbformat": 4,
 "nbformat_minor": 2
}
